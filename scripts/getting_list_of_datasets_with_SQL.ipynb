{
 "cells": [
  {
   "cell_type": "code",
   "execution_count": 1,
   "metadata": {},
   "outputs": [],
   "source": [
    "import pandas as pd"
   ]
  },
  {
   "cell_type": "code",
   "execution_count": 2,
   "metadata": {},
   "outputs": [],
   "source": [
    "import utils as xu"
   ]
  },
  {
   "cell_type": "code",
   "execution_count": 8,
   "metadata": {},
   "outputs": [
    {
     "name": "stderr",
     "output_type": "stream",
     "text": [
      "Downloading: 100%|██████████| 25/25 [00:01<00:00, 17.35rows/s]\n"
     ]
    }
   ],
   "source": [
    "dataset_list_query = \"\"\"\n",
    "SELECT schema_name \n",
    "FROM INFORMATION_SCHEMA.SCHEMATA \n",
    "WHERE catalog_name = 'gabinete-compartilhado'\n",
    "\"\"\"\n",
    "datasets = xu.bigquery_to_pandas(dataset_list_query)['schema_name']"
   ]
  },
  {
   "cell_type": "code",
   "execution_count": 10,
   "metadata": {},
   "outputs": [
    {
     "data": {
      "text/plain": [
       "0                         bruto_tse\n",
       "1             executivo_federal_dou\n",
       "2                            senado\n",
       "3        analise_congresso_votacoes\n",
       "4                      testing_mess\n",
       "5                        historicos\n",
       "6                            siconv\n",
       "7                       tratado_tse\n",
       "8      executivo_federal_servidores\n",
       "9                         congresso\n",
       "10            tratado_tse_processed\n",
       "11              camara_v1_processed\n",
       "12       analise_indicacoes_federal\n",
       "13                          paineis\n",
       "14              camara_v2_processed\n",
       "15                        camara_v1\n",
       "16                    redes_sociais\n",
       "17                       datastudio\n",
       "18                        camara_v2\n",
       "19    bruto_gabinete_administrativo\n",
       "20                 senado_processed\n",
       "21          analise_congresso_poder\n",
       "22                  receita_federal\n",
       "23      analise_congresso_atividade\n",
       "24                         gabi_bot\n",
       "Name: schema_name, dtype: object"
      ]
     },
     "execution_count": 10,
     "metadata": {},
     "output_type": "execute_result"
    }
   ],
   "source": [
    "datasets"
   ]
  },
  {
   "cell_type": "code",
   "execution_count": null,
   "metadata": {},
   "outputs": [],
   "source": []
  }
 ],
 "metadata": {
  "kernelspec": {
   "display_name": "Python 3",
   "language": "python",
   "name": "python3"
  },
  "language_info": {
   "codemirror_mode": {
    "name": "ipython",
    "version": 3
   },
   "file_extension": ".py",
   "mimetype": "text/x-python",
   "name": "python",
   "nbconvert_exporter": "python",
   "pygments_lexer": "ipython3",
   "version": "3.6.10"
  }
 },
 "nbformat": 4,
 "nbformat_minor": 4
}
