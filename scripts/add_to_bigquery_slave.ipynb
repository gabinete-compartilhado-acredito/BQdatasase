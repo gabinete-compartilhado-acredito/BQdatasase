{
 "cells": [
  {
   "cell_type": "markdown",
   "metadata": {},
   "source": [
    "# Add BigQuery table based on GCP storage data"
   ]
  },
  {
   "cell_type": "code",
   "execution_count": 1,
   "metadata": {},
   "outputs": [],
   "source": [
    "import add_to_bigquery_slave as ab\n",
    "ab.local = True\n",
    "ab.debug = True"
   ]
  },
  {
   "cell_type": "markdown",
   "metadata": {},
   "source": [
    "### Events (config info)"
   ]
  },
  {
   "cell_type": "markdown",
   "metadata": {},
   "source": [
    "#### consulta_cand_2018"
   ]
  },
  {
   "cell_type": "code",
   "execution_count": 2,
   "metadata": {},
   "outputs": [],
   "source": [
    "event = {\n",
    "  \"bucket_name\": \"brutos-publicos\",\n",
    "    # prefix is the path to the files used to create the schema:\n",
    "  \"prefix\": \"judiciario/tse/candidatos/consulta_cand_2018_\",\n",
    "    # name is the table's name in BigQuery:\n",
    "  \"name\": \"consulta_cand_2018\",\n",
    "    # This is the path to the table's data in GCP storage:\n",
    "  \"path\": \"gs://brutos-publicos/judiciario/tse/candidatos/consulta_cand_2018_*\",\n",
    "    # The BigQuery dataset where to place the new table:\n",
    "  \"dataset_name\": \"tratado_tse\",\n",
    "    # Data types not to be used (use string instead):\n",
    "  \"extra_types\": [\n",
    "    \"INTEGER\"\n",
    "  ]\n",
    "}"
   ]
  },
  {
   "cell_type": "markdown",
   "metadata": {},
   "source": [
    "#### Brasil Real Oficial"
   ]
  },
  {
   "cell_type": "code",
   "execution_count": 9,
   "metadata": {},
   "outputs": [],
   "source": [
    "event = {\n",
    "  \"bucket_name\": \"local\",\n",
    "    # prefix is the path to the files used to create the schema:\n",
    "  \"prefix\": \"/home/skems/gabinete/projetos/fiscalizacao/executivo/dados/br_oficial_scrap_2020-04-27_noquotes.csv\",\n",
    "    # name is the table's name in BigQuery:\n",
    "  \"name\": \"brasil_real_oficial\",\n",
    "    # This is the path to the table's data in GCP storage:\n",
    "  \"path\": \"gs://brutos-publicos/executivo/federal/bro/br_oficial_scrap_2020-04-27.csv\",\n",
    "    # The BigQuery dataset where to place the new table:\n",
    "  \"dataset_name\": \"executivo_federal_dou\",\n",
    "    # Data types not to be used (use string instead):\n",
    "  \"extra_types\": [],\n",
    "    # Maximum number of character to print to file to use to create schema\n",
    "  \"max_bytes\": 10000\n",
    "}"
   ]
  },
  {
   "cell_type": "markdown",
   "metadata": {},
   "source": [
    "#### Cadastro de servidores federais"
   ]
  },
  {
   "cell_type": "code",
   "execution_count": 2,
   "metadata": {},
   "outputs": [],
   "source": [
    "event = {\n",
    "  \"bucket_name\": \"local\",\n",
    "    # prefix is the path to the files used to create the schema:\n",
    "  \"prefix\": \"/home/skems/gabinete/projetos/fiscalizacao/dados/servidores-executivo-federal/limpos/by_shell_script/202003_Cadastro.csv\",\n",
    "    # name is the table's name in BigQuery:\n",
    "  \"name\": \"cadastro_civis\",\n",
    "    # This is the path to the table's data in GCP storage:\n",
    "  \"path\": \"gs://brutos-publicos/executivo/federal/servidores/temp/202003_Cadastro.csv\",\n",
    "    # The BigQuery dataset where to place the new table:\n",
    "  \"dataset_name\": \"testing_mess\",\n",
    "    # Data types not to be used (use string instead):\n",
    "  \"extra_types\": [\"INTEGER\"],\n",
    "    # Maximum number of character to print to file to use to create schema\n",
    "  \"max_bytes\": 10000\n",
    "}"
   ]
  },
  {
   "cell_type": "markdown",
   "metadata": {},
   "source": [
    "**Atenção:** A colocação desses dados no BigQuery falhou, provavelmente porque os dados estão com aspas mas o bigquery, na atual configuração desse script, não aceita isso."
   ]
  },
  {
   "cell_type": "markdown",
   "metadata": {},
   "source": [
    "### Run script"
   ]
  },
  {
   "cell_type": "code",
   "execution_count": 3,
   "metadata": {},
   "outputs": [
    {
     "name": "stdout",
     "output_type": "stream",
     "text": [
      "local /home/skems/gabinete/projetos/fiscalizacao/dados/servidores-executivo-federal/limpos/by_shell_script/202003_Cadastro.csv\n",
      "/home/skems/gabinete/projetos/fiscalizacao/dados/servidores-executivo-federal/limpos/by_shell_script/202003_Cadastro.csv\n",
      "[OrderedDict([('mode', 'NULLABLE'), ('name', 'id_servidor_portal'), ('type', 'STRING')]), OrderedDict([('mode', 'NULLABLE'), ('name', 'nome'), ('type', 'STRING')]), OrderedDict([('mode', 'NULLABLE'), ('name', 'cpf'), ('type', 'STRING')]), OrderedDict([('mode', 'NULLABLE'), ('name', 'matricula'), ('type', 'STRING')]), OrderedDict([('mode', 'NULLABLE'), ('name', 'descricao_cargo'), ('type', 'STRING')]), OrderedDict([('mode', 'NULLABLE'), ('name', 'classe_cargo'), ('type', 'STRING')]), OrderedDict([('mode', 'NULLABLE'), ('name', 'referencia_cargo'), ('type', 'STRING')]), OrderedDict([('mode', 'NULLABLE'), ('name', 'padrao_cargo'), ('type', 'STRING')]), OrderedDict([('mode', 'NULLABLE'), ('name', 'nivel_cargo'), ('type', 'STRING')]), OrderedDict([('mode', 'NULLABLE'), ('name', 'sigla_funcao'), ('type', 'STRING')]), OrderedDict([('mode', 'NULLABLE'), ('name', 'nivel_funcao'), ('type', 'STRING')]), OrderedDict([('mode', 'NULLABLE'), ('name', 'funcao'), ('type', 'STRING')]), OrderedDict([('mode', 'NULLABLE'), ('name', 'codigo_atividade'), ('type', 'STRING')]), OrderedDict([('mode', 'NULLABLE'), ('name', 'atividade'), ('type', 'STRING')]), OrderedDict([('mode', 'NULLABLE'), ('name', 'opcao_parcial'), ('type', 'STRING')]), OrderedDict([('mode', 'NULLABLE'), ('name', 'cod_uorg_lotacao'), ('type', 'STRING')]), OrderedDict([('mode', 'NULLABLE'), ('name', 'uorg_lotacao'), ('type', 'STRING')]), OrderedDict([('mode', 'NULLABLE'), ('name', 'cod_org_lotacao'), ('type', 'STRING')]), OrderedDict([('mode', 'NULLABLE'), ('name', 'org_lotacao'), ('type', 'STRING')]), OrderedDict([('mode', 'NULLABLE'), ('name', 'cod_orgsup_lotacao'), ('type', 'STRING')]), OrderedDict([('mode', 'NULLABLE'), ('name', 'orgsup_lotacao'), ('type', 'STRING')]), OrderedDict([('mode', 'NULLABLE'), ('name', 'cod_uorg_exercicio'), ('type', 'STRING')]), OrderedDict([('mode', 'NULLABLE'), ('name', 'uorg_exercicio'), ('type', 'STRING')]), OrderedDict([('mode', 'NULLABLE'), ('name', 'cod_org_exercicio'), ('type', 'STRING')]), OrderedDict([('mode', 'NULLABLE'), ('name', 'org_exercicio'), ('type', 'STRING')]), OrderedDict([('mode', 'NULLABLE'), ('name', 'cod_orgsup_exercicio'), ('type', 'STRING')]), OrderedDict([('mode', 'NULLABLE'), ('name', 'orgsup_exercicio'), ('type', 'STRING')]), OrderedDict([('mode', 'NULLABLE'), ('name', 'tipo_vinculo'), ('type', 'STRING')]), OrderedDict([('mode', 'NULLABLE'), ('name', 'situacao_vinculo'), ('type', 'STRING')]), OrderedDict([('mode', 'NULLABLE'), ('name', 'data_inicio_afastamento'), ('type', 'STRING')]), OrderedDict([('mode', 'NULLABLE'), ('name', 'data_termino_afastamento'), ('type', 'STRING')]), OrderedDict([('mode', 'NULLABLE'), ('name', 'regime_juridico'), ('type', 'STRING')]), OrderedDict([('mode', 'NULLABLE'), ('name', 'jornada_de_trabalho'), ('type', 'STRING')]), OrderedDict([('mode', 'NULLABLE'), ('name', 'data_ingresso_cargofuncao'), ('type', 'STRING')]), OrderedDict([('mode', 'NULLABLE'), ('name', 'data_nomeacao_cargofuncao'), ('type', 'STRING')]), OrderedDict([('mode', 'NULLABLE'), ('name', 'data_ingresso_orgao'), ('type', 'STRING')]), OrderedDict([('mode', 'NULLABLE'), ('name', 'documento_ingresso_servicopublico'), ('type', 'STRING')]), OrderedDict([('mode', 'NULLABLE'), ('name', 'data_diploma_ingresso_servicopublico'), ('type', 'STRING')]), OrderedDict([('mode', 'NULLABLE'), ('name', 'diploma_ingresso_cargofuncao'), ('type', 'STRING')]), OrderedDict([('mode', 'NULLABLE'), ('name', 'diploma_ingresso_orgao'), ('type', 'STRING')]), OrderedDict([('mode', 'NULLABLE'), ('name', 'diploma_ingresso_servicopublico'), ('type', 'STRING')]), OrderedDict([('mode', 'NULLABLE'), ('name', 'uf_exercicio'), ('type', 'STRING')])]\n",
      "Table Cr\n"
     ]
    }
   ],
   "source": [
    "ab.lambda_handler(event, {})"
   ]
  },
  {
   "cell_type": "code",
   "execution_count": null,
   "metadata": {},
   "outputs": [],
   "source": []
  }
 ],
 "metadata": {
  "kernelspec": {
   "display_name": "Python 3",
   "language": "python",
   "name": "python3"
  },
  "language_info": {
   "codemirror_mode": {
    "name": "ipython",
    "version": 3
   },
   "file_extension": ".py",
   "mimetype": "text/x-python",
   "name": "python",
   "nbconvert_exporter": "python",
   "pygments_lexer": "ipython3",
   "version": "3.6.10"
  }
 },
 "nbformat": 4,
 "nbformat_minor": 2
}
