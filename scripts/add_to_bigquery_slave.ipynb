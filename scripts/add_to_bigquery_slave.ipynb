{
 "cells": [
  {
   "cell_type": "markdown",
   "metadata": {},
   "source": [
    "# Add BigQuery table based on GCP storage data"
   ]
  },
  {
   "cell_type": "code",
   "execution_count": 7,
   "metadata": {},
   "outputs": [],
   "source": [
    "from importlib import reload"
   ]
  },
  {
   "cell_type": "code",
   "execution_count": 13,
   "metadata": {},
   "outputs": [
    {
     "data": {
      "text/plain": [
       "<module 'add_to_bigquery_slave' from '/home/skems/gabinete/projetos/bigQuery/scripts/add_to_bigquery_slave.py'>"
      ]
     },
     "execution_count": 13,
     "metadata": {},
     "output_type": "execute_result"
    }
   ],
   "source": [
    "reload(ab)"
   ]
  },
  {
   "cell_type": "code",
   "execution_count": 9,
   "metadata": {},
   "outputs": [],
   "source": [
    "import add_to_bigquery_slave as ab\n",
    "ab.local = True\n",
    "ab.debug = True"
   ]
  },
  {
   "cell_type": "markdown",
   "metadata": {},
   "source": [
    "### Events (config info)"
   ]
  },
  {
   "cell_type": "markdown",
   "metadata": {},
   "source": [
    "#### votacoes_detalhes"
   ]
  },
  {
   "cell_type": "code",
   "execution_count": 11,
   "metadata": {},
   "outputs": [],
   "source": [
    "event = {\n",
    "  \"bucket_name\": \"brutos-publicos\",\n",
    "    # prefix is the path to the files used to create the schema:\n",
    "  \"prefix\": \"legislativo/camara/v2/votacoes-detalhes/\",\n",
    "    # name is the table's name in BigQuery:\n",
    "  \"name\": \"votacoes_detalhes\",\n",
    "    # This is the path to the table's data in GCP storage:\n",
    "  \"path\": \"gs://brutos-publicos/legislativo/camara/v2/votacoes-detalhes/*.json\",\n",
    "    # The BigQuery dataset where to place the new table:\n",
    "  \"dataset_name\": \"camara_v2\",\n",
    "    # Data types not to be used (use string instead):\n",
    "  \"extra_types\": [],\n",
    "    # Maximum number of character to print to file to use to create schema\n",
    "  \"max_bytes\": 10000,\n",
    "  \"seed\": 1,\n",
    "  \"select_proba\": 0.1\n",
    "}"
   ]
  },
  {
   "cell_type": "markdown",
   "metadata": {
    "collapsed": "true"
   },
   "source": [
    "#### consulta_cand_2018"
   ]
  },
  {
   "cell_type": "code",
   "execution_count": 2,
   "metadata": {},
   "outputs": [],
   "source": [
    "event = {\n",
    "  \"bucket_name\": \"brutos-publicos\",\n",
    "    # prefix is the path to the files used to create the schema:\n",
    "  \"prefix\": \"judiciario/tse/candidatos/consulta_cand_2018_\",\n",
    "    # name is the table's name in BigQuery:\n",
    "  \"name\": \"consulta_cand_2018\",\n",
    "    # This is the path to the table's data in GCP storage:\n",
    "  \"path\": \"gs://brutos-publicos/judiciario/tse/candidatos/consulta_cand_2018_*\",\n",
    "    # The BigQuery dataset where to place the new table:\n",
    "  \"dataset_name\": \"tratado_tse\",\n",
    "    # Data types not to be used (use string instead):\n",
    "  \"extra_types\": [\n",
    "    \"INTEGER\"\n",
    "  ]\n",
    "}"
   ]
  },
  {
   "cell_type": "markdown",
   "metadata": {
    "collapsed": "true"
   },
   "source": [
    "#### Brasil Real Oficial"
   ]
  },
  {
   "cell_type": "code",
   "execution_count": 9,
   "metadata": {},
   "outputs": [],
   "source": [
    "event = {\n",
    "  \"bucket_name\": \"local\",\n",
    "    # prefix is the path to the files used to create the schema:\n",
    "  \"prefix\": \"/home/skems/gabinete/projetos/fiscalizacao/executivo/dados/br_oficial_scrap_2020-04-27_noquotes.csv\",\n",
    "    # name is the table's name in BigQuery:\n",
    "  \"name\": \"brasil_real_oficial\",\n",
    "    # This is the path to the table's data in GCP storage:\n",
    "  \"path\": \"gs://brutos-publicos/executivo/federal/bro/br_oficial_scrap_2020-04-27.csv\",\n",
    "    # The BigQuery dataset where to place the new table:\n",
    "  \"dataset_name\": \"executivo_federal_dou\",\n",
    "    # Data types not to be used (use string instead):\n",
    "  \"extra_types\": [],\n",
    "    # Maximum number of character to print to file to use to create schema\n",
    "  \"max_bytes\": 10000\n",
    "}"
   ]
  },
  {
   "cell_type": "markdown",
   "metadata": {
    "collapsed": "true"
   },
   "source": [
    "#### Cadastro de servidores federais"
   ]
  },
  {
   "cell_type": "code",
   "execution_count": 2,
   "metadata": {},
   "outputs": [],
   "source": [
    "event = {\n",
    "  \"bucket_name\": \"local\",\n",
    "    # prefix is the path to the files used to create the schema:\n",
    "  \"prefix\": \"/home/skems/gabinete/projetos/fiscalizacao/dados/servidores-executivo-federal/limpos/by_shell_script/202003_Cadastro.csv\",\n",
    "    # name is the table's name in BigQuery:\n",
    "  \"name\": \"cadastro_civis\",\n",
    "    # This is the path to the table's data in GCP storage:\n",
    "  \"path\": \"gs://brutos-publicos/executivo/federal/servidores/temp/202003_Cadastro.csv\",\n",
    "    # The BigQuery dataset where to place the new table:\n",
    "  \"dataset_name\": \"testing_mess\",\n",
    "    # Data types not to be used (use string instead):\n",
    "  \"extra_types\": [\"INTEGER\"],\n",
    "    # Maximum number of character to print to file to use to create schema\n",
    "  \"max_bytes\": 10000\n",
    "}"
   ]
  },
  {
   "cell_type": "markdown",
   "metadata": {},
   "source": [
    "**Atenção:** A colocação desses dados no BigQuery falhou, provavelmente porque os dados estão com aspas mas o bigquery, na atual configuração desse script, não aceita isso."
   ]
  },
  {
   "cell_type": "markdown",
   "metadata": {},
   "source": [
    "### Run script"
   ]
  },
  {
   "cell_type": "code",
   "execution_count": 14,
   "metadata": {},
   "outputs": [
    {
     "name": "stdout",
     "output_type": "stream",
     "text": [
      "[OrderedDict([('mode', 'NULLABLE'), ('name', 'api_url'), ('type', 'STRING')]), OrderedDict([('mode', 'NULLABLE'), ('name', 'aprovacao'), ('type', 'INTEGER')]), OrderedDict([('mode', 'NULLABLE'), ('name', 'capture_date'), ('type', 'STRING')]), OrderedDict([('mode', 'NULLABLE'), ('name', 'data'), ('type', 'STRING')]), OrderedDict([('mode', 'NULLABLE'), ('name', 'dataHoraRegistro'), ('type', 'STRING')]), OrderedDict([('mode', 'NULLABLE'), ('name', 'dataHoraUltimaAberturaVotacao'), ('type', 'STRING')]), OrderedDict([('mode', 'NULLABLE'), ('name', 'descUltimaAberturaVotacao'), ('type', 'STRING')]), OrderedDict([('mode', 'NULLABLE'), ('name', 'descricao'), ('type', 'STRING')]), OrderedDict([('fields', [OrderedDict([('mode', 'NULLABLE'), ('name', 'dataHoraResultado'), ('type', 'STRING')]), OrderedDict([('mode', 'NULLABLE'), ('name', 'dataHoraUltimaAberturaVotacao'), ('type', 'STRING')]), OrderedDict([('mode', 'NULLABLE'), ('name', 'dataHoraUltimaApresentacaoProposicao'), ('type', 'STRING')]), OrderedDict([('mode', 'NULLABLE'), ('name', 'descResultado'), ('type', 'STRING')]), OrderedDict([('mode', 'NULLABLE'), ('name', 'descUltimaAberturaVotacao'), ('type', 'STRING')]), OrderedDict([('mode', 'NULLABLE'), ('name', 'descUltimaApresentacaoProposicao'), ('type', 'STRING')]), OrderedDict([('mode', 'NULLABLE'), ('name', 'tituloProposicao'), ('type', 'STRING')]), OrderedDict([('mode', 'NULLABLE'), ('name', 'tituloProposicaoCitada'), ('type', 'STRING')]), OrderedDict([('mode', 'NULLABLE'), ('name', 'uriProposicao'), ('type', 'STRING')]), OrderedDict([('mode', 'NULLABLE'), ('name', 'uriProposicaoCitada'), ('type', 'STRING')])]), ('mode', 'REPEATED'), ('name', 'efeitosRegistrados'), ('type', 'RECORD')]), OrderedDict([('mode', 'NULLABLE'), ('name', 'id'), ('type', 'STRING')]), OrderedDict([('mode', 'NULLABLE'), ('name', 'idEvento'), ('type', 'INTEGER')]), OrderedDict([('mode', 'NULLABLE'), ('name', 'idOrgao'), ('type', 'INTEGER')]), OrderedDict([('fields', [OrderedDict([('mode', 'NULLABLE'), ('name', 'ano'), ('type', 'INTEGER')]), OrderedDict([('mode', 'NULLABLE'), ('name', 'codTipo'), ('type', 'INTEGER')]), OrderedDict([('mode', 'NULLABLE'), ('name', 'ementa'), ('type', 'STRING')]), OrderedDict([('mode', 'NULLABLE'), ('name', 'id'), ('type', 'INTEGER')]), OrderedDict([('mode', 'NULLABLE'), ('name', 'numero'), ('type', 'INTEGER')]), OrderedDict([('mode', 'NULLABLE'), ('name', 'siglaTipo'), ('type', 'STRING')]), OrderedDict([('mode', 'NULLABLE'), ('name', 'uri'), ('type', 'STRING')])]), ('mode', 'REPEATED'), ('name', 'objetosPossiveis'), ('type', 'RECORD')]), OrderedDict([('fields', [OrderedDict([('mode', 'NULLABLE'), ('name', 'ano'), ('type', 'INTEGER')]), OrderedDict([('mode', 'NULLABLE'), ('name', 'codTipo'), ('type', 'INTEGER')]), OrderedDict([('mode', 'NULLABLE'), ('name', 'ementa'), ('type', 'STRING')]), OrderedDict([('mode', 'NULLABLE'), ('name', 'id'), ('type', 'INTEGER')]), OrderedDict([('mode', 'NULLABLE'), ('name', 'numero'), ('type', 'INTEGER')]), OrderedDict([('mode', 'NULLABLE'), ('name', 'siglaTipo'), ('type', 'STRING')]), OrderedDict([('mode', 'NULLABLE'), ('name', 'uri'), ('type', 'STRING')])]), ('mode', 'REPEATED'), ('name', 'proposicoesAfetadas'), ('type', 'RECORD')]), OrderedDict([('mode', 'NULLABLE'), ('name', 'siglaOrgao'), ('type', 'STRING')]), OrderedDict([('fields', [OrderedDict([('mode', 'NULLABLE'), ('name', 'dataHoraRegistro'), ('type', 'STRING')]), OrderedDict([('mode', 'NULLABLE'), ('name', 'descricao'), ('type', 'STRING')]), OrderedDict([('mode', 'NULLABLE'), ('name', 'uriProposicaoCitada'), ('type', 'STRING')])]), ('mode', 'NULLABLE'), ('name', 'ultimaApresentacaoProposicao'), ('type', 'RECORD')]), OrderedDict([('mode', 'NULLABLE'), ('name', 'uri'), ('type', 'STRING')]), OrderedDict([('mode', 'NULLABLE'), ('name', 'uriEvento'), ('type', 'STRING')]), OrderedDict([('mode', 'NULLABLE'), ('name', 'uriOrgao'), ('type', 'STRING')])]\n",
      "Table Cr\n"
     ]
    }
   ],
   "source": [
    "ab.lambda_handler(event, {})"
   ]
  },
  {
   "cell_type": "code",
   "execution_count": null,
   "metadata": {},
   "outputs": [],
   "source": []
  }
 ],
 "metadata": {
  "kernelspec": {
   "display_name": "Python 3",
   "language": "python",
   "name": "python3"
  },
  "language_info": {
   "codemirror_mode": {
    "name": "ipython",
    "version": 3
   },
   "file_extension": ".py",
   "mimetype": "text/x-python",
   "name": "python",
   "nbconvert_exporter": "python",
   "pygments_lexer": "ipython3",
   "version": "3.8.5"
  }
 },
 "nbformat": 4,
 "nbformat_minor": 4
}
