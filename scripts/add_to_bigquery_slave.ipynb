{
 "cells": [
  {
   "cell_type": "markdown",
   "metadata": {},
   "source": [
    "# Add BigQuery table based on GCP storage data"
   ]
  },
  {
   "cell_type": "code",
   "execution_count": 1,
   "metadata": {},
   "outputs": [],
   "source": [
    "import add_to_bigquery_slave as ab\n",
    "ab.local = True\n",
    "ab.debug = True"
   ]
  },
  {
   "cell_type": "markdown",
   "metadata": {},
   "source": [
    "### Events (config info)"
   ]
  },
  {
   "cell_type": "markdown",
   "metadata": {},
   "source": [
    "#### consulta_cand_2018"
   ]
  },
  {
   "cell_type": "code",
   "execution_count": 4,
   "metadata": {},
   "outputs": [],
   "source": [
    "event = {\n",
    "  \"bucket_name\": \"brutos-publicos\",\n",
    "    # prefix is the path to the files used to create the schema:\n",
    "  \"prefix\": \"judiciario/tse/candidatos/consulta_cand_2018_\",\n",
    "    # name is the table's name in BigQuery:\n",
    "  \"name\": \"consulta_cand_2018\",\n",
    "    # This is the path to the table's data in GCP storage:\n",
    "  \"path\": \"gs://brutos-publicos/judiciario/tse/candidatos/consulta_cand_2018_*\",\n",
    "    # The BigQuery dataset where to place the new table:\n",
    "  \"dataset_name\": \"tratado_tse\",\n",
    "    # Data types not to be used (use string instead):\n",
    "  \"extra_types\": [\n",
    "    \"INTEGER\"\n",
    "  ]\n",
    "}"
   ]
  },
  {
   "cell_type": "markdown",
   "metadata": {},
   "source": [
    "### Run script"
   ]
  },
  {
   "cell_type": "code",
   "execution_count": 5,
   "metadata": {},
   "outputs": [
    {
     "name": "stdout",
     "output_type": "stream",
     "text": [
      "brutos-publicos judiciario/tse/candidatos/consulta_cand_2018_\n",
      "<Blob: brutos-publicos, judiciario/tse/candidatos/consulta_cand_2018_AC.json, 1578941265544332>\n",
      "<Blob: brutos-publicos, judiciario/tse/candidatos/consulta_cand_2018_AL.json, 1578941252858634>\n",
      "<Blob: brutos-publicos, judiciario/tse/candidatos/consulta_cand_2018_AM.json, 1578941246773130>\n",
      "<Blob: brutos-publicos, judiciario/tse/candidatos/consulta_cand_2018_AP.json, 1578941239655446>\n",
      "<Blob: brutos-publicos, judiciario/tse/candidatos/consulta_cand_2018_BA.json, 1578941231537772>\n",
      "<Blob: brutos-publicos, judiciario/tse/candidatos/consulta_cand_2018_BR.json, 1578941222923704>\n",
      "<Blob: brutos-publicos, judiciario/tse/candidatos/consulta_cand_2018_CE.json, 1578941217482840>\n",
      "<Blob: brutos-publicos, judiciario/tse/candidatos/consulta_cand_2018_DF.json, 1578941207638698>\n",
      "<Blob: brutos-publicos, judiciario/tse/candidatos/consulta_cand_2018_ES.json, 1578941193639879>\n",
      "<Blob: brutos-publicos, judiciario/tse/candidatos/consulta_cand_2018_GO.json, 1578941185601197>\n",
      "<Blob: brutos-publicos, judiciario/tse/candidatos/consulta_cand_2018_MA.json, 1578941179424162>\n",
      "<Blob: brutos-publicos, judiciario/tse/candidatos/consulta_cand_2018_MG.json, 1578941175907250>\n",
      "<Blob: brutos-publicos, judiciario/tse/candidatos/consulta_cand_2018_MS.json, 1578941173810720>\n",
      "<Blob: brutos-publicos, judiciario/tse/candidatos/consulta_cand_2018_MT.json, 1578941172104151>\n",
      "<Blob: brutos-publicos, judiciario/tse/candidatos/consulta_cand_2018_PA.json, 1578941170353735>\n",
      "<Blob: brutos-publicos, judiciario/tse/candidatos/consulta_cand_2018_PB.json, 1578941168554645>\n",
      "<Blob: brutos-publicos, judiciario/tse/candidatos/consulta_cand_2018_PE.json, 1578941166687090>\n",
      "<Blob: brutos-publicos, judiciario/tse/candidatos/consulta_cand_2018_PI.json, 1578941164062528>\n",
      "<Blob: brutos-publicos, judiciario/tse/candidatos/consulta_cand_2018_PR.json, 1578941162338067>\n",
      "<Blob: brutos-publicos, judiciario/tse/candidatos/consulta_cand_2018_RJ.json, 1578941160372601>\n",
      "<Blob: brutos-publicos, judiciario/tse/candidatos/consulta_cand_2018_RN.json, 1578941157971019>\n",
      "<Blob: brutos-publicos, judiciario/tse/candidatos/consulta_cand_2018_RO.json, 1578941156085106>\n",
      "<Blob: brutos-publicos, judiciario/tse/candidatos/consulta_cand_2018_RR.json, 1578941154079622>\n",
      "<Blob: brutos-publicos, judiciario/tse/candidatos/consulta_cand_2018_RS.json, 1578941152232143>\n",
      "<Blob: brutos-publicos, judiciario/tse/candidatos/consulta_cand_2018_SC.json, 1578941149682602>\n",
      "<Blob: brutos-publicos, judiciario/tse/candidatos/consulta_cand_2018_SE.json, 1578941147734871>\n",
      "<Blob: brutos-publicos, judiciario/tse/candidatos/consulta_cand_2018_SP.json, 1578941145936948>\n",
      "<Blob: brutos-publicos, judiciario/tse/candidatos/consulta_cand_2018_TO.json, 1578941143723129>\n",
      "[OrderedDict([('mode', 'NULLABLE'), ('name', 'ANO_ELEICAO'), ('type', 'STRING')]), OrderedDict([('mode', 'NULLABLE'), ('name', 'CD_CARGO'), ('type', 'STRING')]), OrderedDict([('mode', 'NULLABLE'), ('name', 'CD_COR_RACA'), ('type', 'STRING')]), OrderedDict([('mode', 'NULLABLE'), ('name', 'CD_DETALHE_SITUACAO_CAND'), ('type', 'STRING')]), OrderedDict([('mode', 'NULLABLE'), ('name', 'CD_ELEICAO'), ('type', 'STRING')]), OrderedDict([('mode', 'NULLABLE'), ('name', 'CD_ESTADO_CIVIL'), ('type', 'STRING')]), OrderedDict([('mode', 'NULLABLE'), ('name', 'CD_GENERO'), ('type', 'STRING')]), OrderedDict([('mode', 'NULLABLE'), ('name', 'CD_GRAU_INSTRUCAO'), ('type', 'STRING')]), OrderedDict([('mode', 'NULLABLE'), ('name', 'CD_NACIONALIDADE'), ('type', 'STRING')]), OrderedDict([('mode', 'NULLABLE'), ('name', 'CD_OCUPACAO'), ('type', 'STRING')]), OrderedDict([('mode', 'NULLABLE'), ('name', 'CD_SITUACAO_CANDIDATURA'), ('type', 'STRING')]), OrderedDict([('mode', 'NULLABLE'), ('name', 'CD_SIT_TOT_TURNO'), ('type', 'STRING')]), OrderedDict([('mode', 'NULLABLE'), ('name', 'CD_TIPO_ELEICAO'), ('type', 'STRING')]), OrderedDict([('mode', 'NULLABLE'), ('name', 'DS_CARGO'), ('type', 'STRING')]), OrderedDict([('mode', 'NULLABLE'), ('name', 'DS_COMPOSICAO_COLIGACAO'), ('type', 'STRING')]), OrderedDict([('mode', 'NULLABLE'), ('name', 'DS_COR_RACA'), ('type', 'STRING')]), OrderedDict([('mode', 'NULLABLE'), ('name', 'DS_DETALHE_SITUACAO_CAND'), ('type', 'STRING')]), OrderedDict([('mode', 'NULLABLE'), ('name', 'DS_ELEICAO'), ('type', 'STRING')]), OrderedDict([('mode', 'NULLABLE'), ('name', 'DS_ESTADO_CIVIL'), ('type', 'STRING')]), OrderedDict([('mode', 'NULLABLE'), ('name', 'DS_GENERO'), ('type', 'STRING')]), OrderedDict([('mode', 'NULLABLE'), ('name', 'DS_GRAU_INSTRUCAO'), ('type', 'STRING')]), OrderedDict([('mode', 'NULLABLE'), ('name', 'DS_NACIONALIDADE'), ('type', 'STRING')]), OrderedDict([('mode', 'NULLABLE'), ('name', 'DS_OCUPACAO'), ('type', 'STRING')]), OrderedDict([('mode', 'NULLABLE'), ('name', 'DS_SITUACAO_CANDIDATURA'), ('type', 'STRING')]), OrderedDict([('mode', 'NULLABLE'), ('name', 'DS_SIT_TOT_TURNO'), ('type', 'STRING')]), OrderedDict([('mode', 'NULLABLE'), ('name', 'DT_ELEICAO'), ('type', 'STRING')]), OrderedDict([('mode', 'NULLABLE'), ('name', 'DT_GERACAO'), ('type', 'STRING')]), OrderedDict([('mode', 'NULLABLE'), ('name', 'DT_NASCIMENTO'), ('type', 'STRING')]), OrderedDict([('mode', 'NULLABLE'), ('name', 'HH_GERACAO'), ('type', 'STRING')]), OrderedDict([('mode', 'NULLABLE'), ('name', 'NM_CANDIDATO'), ('type', 'STRING')]), OrderedDict([('mode', 'NULLABLE'), ('name', 'NM_COLIGACAO'), ('type', 'STRING')]), OrderedDict([('mode', 'NULLABLE'), ('name', 'NM_EMAIL'), ('type', 'STRING')]), OrderedDict([('mode', 'NULLABLE'), ('name', 'NM_MUNICIPIO_NASCIMENTO'), ('type', 'STRING')]), OrderedDict([('mode', 'NULLABLE'), ('name', 'NM_PARTIDO'), ('type', 'STRING')]), OrderedDict([('mode', 'NULLABLE'), ('name', 'NM_SITE'), ('type', 'STRING')]), OrderedDict([('mode', 'NULLABLE'), ('name', 'NM_SOCIAL_CANDIDATO'), ('type', 'STRING')]), OrderedDict([('mode', 'NULLABLE'), ('name', 'NM_TIPO_ELEICAO'), ('type', 'STRING')]), OrderedDict([('mode', 'NULLABLE'), ('name', 'NM_UE'), ('type', 'STRING')]), OrderedDict([('mode', 'NULLABLE'), ('name', 'NM_URNA_CANDIDATO'), ('type', 'STRING')]), OrderedDict([('mode', 'NULLABLE'), ('name', 'NR_CANDIDATO'), ('type', 'STRING')]), OrderedDict([('mode', 'NULLABLE'), ('name', 'NR_CPF_CANDIDATO'), ('type', 'STRING')]), OrderedDict([('mode', 'NULLABLE'), ('name', 'NR_DESPESA_MAX_CAMPANHA'), ('type', 'STRING')]), OrderedDict([('mode', 'NULLABLE'), ('name', 'NR_IDADE_DATA_POSSE'), ('type', 'STRING')]), OrderedDict([('mode', 'NULLABLE'), ('name', 'NR_PARTIDO'), ('type', 'STRING')]), OrderedDict([('mode', 'NULLABLE'), ('name', 'NR_PROCESSO'), ('type', 'STRING')]), OrderedDict([('mode', 'NULLABLE'), ('name', 'NR_TITULO_ELEITORAL_CANDIDATO'), ('type', 'STRING')]), OrderedDict([('mode', 'NULLABLE'), ('name', 'NR_TURNO'), ('type', 'STRING')]), OrderedDict([('mode', 'NULLABLE'), ('name', 'SG_PARTIDO'), ('type', 'STRING')]), OrderedDict([('mode', 'NULLABLE'), ('name', 'SG_UE'), ('type', 'STRING')]), OrderedDict([('mode', 'NULLABLE'), ('name', 'SG_UF'), ('type', 'STRING')]), OrderedDict([('mode', 'NULLABLE'), ('name', 'SG_UF_NASCIMENTO'), ('type', 'STRING')]), OrderedDict([('mode', 'NULLABLE'), ('name', 'SQ_CANDIDATO'), ('type', 'STRING')]), OrderedDict([('mode', 'NULLABLE'), ('name', 'SQ_COLIGACAO'), ('type', 'STRING')]), OrderedDict([('mode', 'NULLABLE'), ('name', 'ST_DECLARAR_BENS'), ('type', 'STRING')]), OrderedDict([('mode', 'NULLABLE'), ('name', 'ST_REELEICAO'), ('type', 'STRING')]), OrderedDict([('mode', 'NULLABLE'), ('name', 'TP_ABRANGENCIA'), ('type', 'STRING')]), OrderedDict([('mode', 'NULLABLE'), ('name', 'TP_AGREMIACAO'), ('type', 'STRING')])]\n",
      "404 DELETE https://bigquery.googleapis.com/bigquery/v2/projects/gabinete-compartilhado/datasets/tratado_tse/tables/consulta_cand_2018: Not found: Table gabinete-compartilhado:tratado_tse.consulta_cand_2018\n",
      "Table Cr\n"
     ]
    }
   ],
   "source": [
    "ab.lambda_handler(event, {})"
   ]
  },
  {
   "cell_type": "code",
   "execution_count": null,
   "metadata": {},
   "outputs": [],
   "source": []
  }
 ],
 "metadata": {
  "kernelspec": {
   "display_name": "Python 3",
   "language": "python",
   "name": "python3"
  },
  "language_info": {
   "codemirror_mode": {
    "name": "ipython",
    "version": 3
   },
   "file_extension": ".py",
   "mimetype": "text/x-python",
   "name": "python",
   "nbconvert_exporter": "python",
   "pygments_lexer": "ipython3",
   "version": "3.6.9"
  }
 },
 "nbformat": 4,
 "nbformat_minor": 2
}
