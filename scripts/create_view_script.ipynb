{
 "cells": [
  {
   "cell_type": "markdown",
   "metadata": {},
   "source": [
    "# Create view in BigQuery"
   ]
  },
  {
   "cell_type": "code",
   "execution_count": 10,
   "metadata": {},
   "outputs": [],
   "source": [
    "from google.cloud import bigquery\n",
    "import os\n",
    "import sys"
   ]
  },
  {
   "cell_type": "code",
   "execution_count": 7,
   "metadata": {},
   "outputs": [],
   "source": [
    "def load_query_file(filename):\n",
    "    \"\"\"\n",
    "    Load the content of the file `filename` to a string and return it.\n",
    "    \"\"\"\n",
    "    with open(filename, 'r') as f:\n",
    "        query = f.read()\n",
    "    return query"
   ]
  },
  {
   "cell_type": "code",
   "execution_count": 5,
   "metadata": {},
   "outputs": [],
   "source": [
    "def create_view(dataset, view_name, query, \n",
    "                credentials='/home/skems/gabinete/projetos/keys-configs/gabinete-compartilhado.json'):\n",
    "    \"\"\"\n",
    "    Create or update view in bigquery.\n",
    "    \n",
    "    Input\n",
    "    -----\n",
    "    \n",
    "    dataset : str\n",
    "        Name of the dataset where the view should be saved.\n",
    "        \n",
    "    view_name : str\n",
    "        Name o the view to be created.\n",
    "        \n",
    "    query : str\n",
    "        Query constituting the view.\n",
    "        \n",
    "    credentials : str (default 'gabinete-compartilhado.json')\n",
    "        Filename of the JSON file constaining GCP credentials.\n",
    "    \"\"\"\n",
    "    \n",
    "    # Start client:\n",
    "    os.environ['GOOGLE_APPLICATION_CREDENTIALS'] = credentials\n",
    "    client = bigquery.Client()\n",
    "    \n",
    "    # Create table/view object:\n",
    "    dataset_ref = client.dataset(dataset)\n",
    "    table_ref   = dataset_ref.table(view_name)\n",
    "    view        = bigquery.Table(table_ref)\n",
    "    # Set view properties:\n",
    "    view.view_use_legacy_sql = False\n",
    "    view.view_query = query\n",
    "\n",
    "    table_list = [obj.table_id for obj in client.list_tables(dataset)]\n",
    "    if view_name in table_list:\n",
    "        client.delete_table(view)\n",
    "        client.create_table(view, timeout=300)\n",
    "    else:\n",
    "        client.create_table(view, timeout=300)"
   ]
  },
  {
   "cell_type": "code",
   "execution_count": 8,
   "metadata": {},
   "outputs": [
    {
     "data": {
      "text/plain": [
       "'-- To congresso at 21:22\\nSELECT * FROM `gabinete-compartilhado.congresso.camara_deputados_semihomonimos`\\n-- To analise_congresso_atividade at 21:24\\nSELECT * FROM `gabinete-compartilhado.congresso.camara_deputados_semihomonimos`\\n'"
      ]
     },
     "execution_count": 8,
     "metadata": {},
     "output_type": "execute_result"
    }
   ],
   "source": [
    "query = load_query_file()"
   ]
  },
  {
   "cell_type": "code",
   "execution_count": 6,
   "metadata": {},
   "outputs": [],
   "source": [
    "create_view('executivo_federal_dou', 'nomeacoes_exoneracoes', query)"
   ]
  },
  {
   "cell_type": "code",
   "execution_count": null,
   "metadata": {},
   "outputs": [],
   "source": []
  }
 ],
 "metadata": {
  "kernelspec": {
   "display_name": "Python 3",
   "language": "python",
   "name": "python3"
  },
  "language_info": {
   "codemirror_mode": {
    "name": "ipython",
    "version": 3
   },
   "file_extension": ".py",
   "mimetype": "text/x-python",
   "name": "python",
   "nbconvert_exporter": "python",
   "pygments_lexer": "ipython3",
   "version": "3.6.10"
  }
 },
 "nbformat": 4,
 "nbformat_minor": 4
}
